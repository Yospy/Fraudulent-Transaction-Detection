{
 "cells": [
  {
   "cell_type": "code",
   "execution_count": null,
   "metadata": {
    "_cell_guid": "b1076dfc-b9ad-4769-8c92-a6c4dae69d19",
    "_uuid": "8f2839f25d086af736a60e9eeb907d3b93b6e0e5",
    "execution": {
     "iopub.execute_input": "2022-08-02T14:10:17.378747Z",
     "iopub.status.busy": "2022-08-02T14:10:17.377596Z",
     "iopub.status.idle": "2022-08-02T14:11:41.294585Z",
     "shell.execute_reply": "2022-08-02T14:11:41.293593Z",
     "shell.execute_reply.started": "2022-08-02T14:10:17.378609Z"
    }
   },
   "outputs": [
    {
     "name": "stdout",
     "output_type": "stream",
     "text": [
      "Collecting tensorflow-text\n",
      "  Downloading tensorflow_text-2.9.0-cp38-cp38-macosx_10_9_x86_64.whl (4.4 MB)\n",
      "\u001b[K     |████████████████████████████████| 4.4 MB 1.0 MB/s eta 0:00:01\n",
      "\u001b[?25hCollecting tensorflow-hub>=0.8.0\n",
      "  Downloading tensorflow_hub-0.12.0-py2.py3-none-any.whl (108 kB)\n",
      "\u001b[K     |████████████████████████████████| 108 kB 3.5 MB/s eta 0:00:01\n",
      "\u001b[?25hCollecting tensorflow<2.10,>=2.9.0\n",
      "  Downloading tensorflow-2.9.1-cp38-cp38-macosx_10_14_x86_64.whl (228.5 MB)\n",
      "\u001b[K     |██                              | 13.8 MB 198 kB/s eta 0:18:03"
     ]
    }
   ],
   "source": [
    "!pip install tensorflow-text\n",
    "import pandas as pd\n",
    "from numpy import *\n",
    "import tensorflow as tf\n",
    "import tensorflow_hub as hub\n",
    "import tensorflow_text as text"
   ]
  },
  {
   "cell_type": "code",
   "execution_count": 2,
   "metadata": {
    "execution": {
     "iopub.execute_input": "2022-08-02T14:11:46.477244Z",
     "iopub.status.busy": "2022-08-02T14:11:46.476598Z",
     "iopub.status.idle": "2022-08-02T14:11:46.605355Z",
     "shell.execute_reply": "2022-08-02T14:11:46.604481Z",
     "shell.execute_reply.started": "2022-08-02T14:11:46.477209Z"
    }
   },
   "outputs": [],
   "source": [
    "train = pd.read_csv('../input/tweet-sentiment-extraction/train.csv')\n",
    "train.head()"
   ]
  },
  {
   "cell_type": "code",
   "execution_count": 3,
   "metadata": {
    "execution": {
     "iopub.execute_input": "2022-08-02T14:11:48.046636Z",
     "iopub.status.busy": "2022-08-02T14:11:48.046263Z",
     "iopub.status.idle": "2022-08-02T14:11:48.073724Z",
     "shell.execute_reply": "2022-08-02T14:11:48.072632Z",
     "shell.execute_reply.started": "2022-08-02T14:11:48.046606Z"
    }
   },
   "outputs": [],
   "source": [
    "test = pd.read_csv('../input/tweet-sentiment-extraction/test.csv')\n",
    "test.head()"
   ]
  },
  {
   "cell_type": "code",
   "execution_count": 4,
   "metadata": {
    "execution": {
     "iopub.execute_input": "2022-08-02T14:11:48.277374Z",
     "iopub.status.busy": "2022-08-02T14:11:48.276996Z",
     "iopub.status.idle": "2022-08-02T14:11:48.304958Z",
     "shell.execute_reply": "2022-08-02T14:11:48.303980Z",
     "shell.execute_reply.started": "2022-08-02T14:11:48.277345Z"
    }
   },
   "outputs": [],
   "source": [
    "train.info()"
   ]
  },
  {
   "cell_type": "code",
   "execution_count": 5,
   "metadata": {
    "execution": {
     "iopub.execute_input": "2022-08-02T14:11:48.837501Z",
     "iopub.status.busy": "2022-08-02T14:11:48.836452Z",
     "iopub.status.idle": "2022-08-02T14:11:48.894036Z",
     "shell.execute_reply": "2022-08-02T14:11:48.892407Z",
     "shell.execute_reply.started": "2022-08-02T14:11:48.837456Z"
    }
   },
   "outputs": [],
   "source": [
    "train.describe()"
   ]
  },
  {
   "cell_type": "code",
   "execution_count": 6,
   "metadata": {
    "execution": {
     "iopub.execute_input": "2022-08-02T14:11:49.057336Z",
     "iopub.status.busy": "2022-08-02T14:11:49.056399Z",
     "iopub.status.idle": "2022-08-02T14:11:49.071894Z",
     "shell.execute_reply": "2022-08-02T14:11:49.070982Z",
     "shell.execute_reply.started": "2022-08-02T14:11:49.057286Z"
    }
   },
   "outputs": [],
   "source": [
    "train.isnull().sum()"
   ]
  },
  {
   "cell_type": "code",
   "execution_count": 7,
   "metadata": {
    "execution": {
     "iopub.execute_input": "2022-08-02T14:11:49.256972Z",
     "iopub.status.busy": "2022-08-02T14:11:49.256382Z",
     "iopub.status.idle": "2022-08-02T14:11:49.272217Z",
     "shell.execute_reply": "2022-08-02T14:11:49.270992Z",
     "shell.execute_reply.started": "2022-08-02T14:11:49.256915Z"
    }
   },
   "outputs": [],
   "source": [
    "train = train.dropna()"
   ]
  },
  {
   "cell_type": "code",
   "execution_count": 8,
   "metadata": {
    "execution": {
     "iopub.execute_input": "2022-08-02T14:11:49.596997Z",
     "iopub.status.busy": "2022-08-02T14:11:49.596107Z",
     "iopub.status.idle": "2022-08-02T14:11:49.608552Z",
     "shell.execute_reply": "2022-08-02T14:11:49.607490Z",
     "shell.execute_reply.started": "2022-08-02T14:11:49.596925Z"
    }
   },
   "outputs": [],
   "source": [
    "train.head()"
   ]
  },
  {
   "cell_type": "code",
   "execution_count": 9,
   "metadata": {
    "execution": {
     "iopub.execute_input": "2022-08-02T14:11:50.038240Z",
     "iopub.status.busy": "2022-08-02T14:11:50.036223Z",
     "iopub.status.idle": "2022-08-02T14:11:50.048202Z",
     "shell.execute_reply": "2022-08-02T14:11:50.047050Z",
     "shell.execute_reply.started": "2022-08-02T14:11:50.038193Z"
    }
   },
   "outputs": [],
   "source": [
    "train.sentiment.unique()"
   ]
  },
  {
   "cell_type": "code",
   "execution_count": 10,
   "metadata": {
    "execution": {
     "iopub.execute_input": "2022-08-02T14:11:50.236342Z",
     "iopub.status.busy": "2022-08-02T14:11:50.235985Z",
     "iopub.status.idle": "2022-08-02T14:11:50.245990Z",
     "shell.execute_reply": "2022-08-02T14:11:50.244806Z",
     "shell.execute_reply.started": "2022-08-02T14:11:50.236314Z"
    }
   },
   "outputs": [],
   "source": [
    "train = train.drop(['selected_text'],1)"
   ]
  },
  {
   "cell_type": "code",
   "execution_count": 11,
   "metadata": {
    "execution": {
     "iopub.execute_input": "2022-08-02T14:11:50.677630Z",
     "iopub.status.busy": "2022-08-02T14:11:50.676852Z",
     "iopub.status.idle": "2022-08-02T14:11:50.689187Z",
     "shell.execute_reply": "2022-08-02T14:11:50.688092Z",
     "shell.execute_reply.started": "2022-08-02T14:11:50.677592Z"
    }
   },
   "outputs": [],
   "source": [
    "train.head()"
   ]
  },
  {
   "cell_type": "code",
   "execution_count": 12,
   "metadata": {
    "execution": {
     "iopub.execute_input": "2022-08-02T14:11:50.937029Z",
     "iopub.status.busy": "2022-08-02T14:11:50.936327Z",
     "iopub.status.idle": "2022-08-02T14:11:50.994346Z",
     "shell.execute_reply": "2022-08-02T14:11:50.993423Z",
     "shell.execute_reply.started": "2022-08-02T14:11:50.936972Z"
    }
   },
   "outputs": [],
   "source": [
    "from sklearn.preprocessing import LabelEncoder\n",
    "encoder = LabelEncoder()"
   ]
  },
  {
   "cell_type": "code",
   "execution_count": 13,
   "metadata": {
    "execution": {
     "iopub.execute_input": "2022-08-02T14:11:51.096796Z",
     "iopub.status.busy": "2022-08-02T14:11:51.096456Z",
     "iopub.status.idle": "2022-08-02T14:11:51.109731Z",
     "shell.execute_reply": "2022-08-02T14:11:51.108663Z",
     "shell.execute_reply.started": "2022-08-02T14:11:51.096767Z"
    }
   },
   "outputs": [],
   "source": [
    "train.sentiment = encoder.fit_transform(train.sentiment)"
   ]
  },
  {
   "cell_type": "code",
   "execution_count": 14,
   "metadata": {
    "execution": {
     "iopub.execute_input": "2022-08-02T14:11:51.436875Z",
     "iopub.status.busy": "2022-08-02T14:11:51.436518Z",
     "iopub.status.idle": "2022-08-02T14:11:51.447379Z",
     "shell.execute_reply": "2022-08-02T14:11:51.446352Z",
     "shell.execute_reply.started": "2022-08-02T14:11:51.436844Z"
    }
   },
   "outputs": [],
   "source": [
    "train.head()"
   ]
  },
  {
   "cell_type": "code",
   "execution_count": 15,
   "metadata": {
    "execution": {
     "iopub.execute_input": "2022-08-02T14:11:51.817142Z",
     "iopub.status.busy": "2022-08-02T14:11:51.816234Z",
     "iopub.status.idle": "2022-08-02T14:11:51.823845Z",
     "shell.execute_reply": "2022-08-02T14:11:51.822789Z",
     "shell.execute_reply.started": "2022-08-02T14:11:51.817095Z"
    }
   },
   "outputs": [],
   "source": [
    "encoder.classes_"
   ]
  },
  {
   "cell_type": "code",
   "execution_count": 16,
   "metadata": {
    "execution": {
     "iopub.execute_input": "2022-08-02T14:11:52.007126Z",
     "iopub.status.busy": "2022-08-02T14:11:52.006235Z",
     "iopub.status.idle": "2022-08-02T14:11:52.014848Z",
     "shell.execute_reply": "2022-08-02T14:11:52.013794Z",
     "shell.execute_reply.started": "2022-08-02T14:11:52.007082Z"
    }
   },
   "outputs": [],
   "source": [
    "train.sentiment.unique()"
   ]
  },
  {
   "cell_type": "code",
   "execution_count": 17,
   "metadata": {
    "execution": {
     "iopub.execute_input": "2022-08-02T14:11:52.417988Z",
     "iopub.status.busy": "2022-08-02T14:11:52.416983Z",
     "iopub.status.idle": "2022-08-02T14:11:52.474435Z",
     "shell.execute_reply": "2022-08-02T14:11:52.473355Z",
     "shell.execute_reply.started": "2022-08-02T14:11:52.417922Z"
    }
   },
   "outputs": [],
   "source": [
    "train.groupby('sentiment').describe()"
   ]
  },
  {
   "cell_type": "code",
   "execution_count": 18,
   "metadata": {
    "execution": {
     "iopub.execute_input": "2022-08-02T14:11:52.666763Z",
     "iopub.status.busy": "2022-08-02T14:11:52.666411Z",
     "iopub.status.idle": "2022-08-02T14:11:52.677951Z",
     "shell.execute_reply": "2022-08-02T14:11:52.676974Z",
     "shell.execute_reply.started": "2022-08-02T14:11:52.666734Z"
    }
   },
   "outputs": [],
   "source": [
    "df_neutral = train[train['sentiment']==0]\n",
    "df_neutral.shape"
   ]
  },
  {
   "cell_type": "code",
   "execution_count": 19,
   "metadata": {
    "execution": {
     "iopub.execute_input": "2022-08-02T14:11:52.956548Z",
     "iopub.status.busy": "2022-08-02T14:11:52.956202Z",
     "iopub.status.idle": "2022-08-02T14:11:52.967109Z",
     "shell.execute_reply": "2022-08-02T14:11:52.966086Z",
     "shell.execute_reply.started": "2022-08-02T14:11:52.956519Z"
    }
   },
   "outputs": [],
   "source": [
    "df_negative = train[train['sentiment']==1]\n",
    "df_negative.shape"
   ]
  },
  {
   "cell_type": "code",
   "execution_count": 20,
   "metadata": {
    "execution": {
     "iopub.execute_input": "2022-08-02T14:11:53.447134Z",
     "iopub.status.busy": "2022-08-02T14:11:53.446510Z",
     "iopub.status.idle": "2022-08-02T14:11:53.457384Z",
     "shell.execute_reply": "2022-08-02T14:11:53.456204Z",
     "shell.execute_reply.started": "2022-08-02T14:11:53.447096Z"
    }
   },
   "outputs": [],
   "source": [
    "df_positive = train[train['sentiment']==2]\n",
    "df_positive.shape"
   ]
  },
  {
   "cell_type": "code",
   "execution_count": 21,
   "metadata": {
    "execution": {
     "iopub.execute_input": "2022-08-02T14:11:53.677127Z",
     "iopub.status.busy": "2022-08-02T14:11:53.676741Z",
     "iopub.status.idle": "2022-08-02T14:11:53.688273Z",
     "shell.execute_reply": "2022-08-02T14:11:53.687098Z",
     "shell.execute_reply.started": "2022-08-02T14:11:53.677097Z"
    }
   },
   "outputs": [],
   "source": [
    "df_neg_bal = df_negative.sample(df_neutral.shape[0])\n",
    "df_neg_bal.shape"
   ]
  },
  {
   "cell_type": "code",
   "execution_count": 22,
   "metadata": {
    "execution": {
     "iopub.execute_input": "2022-08-02T14:11:53.917596Z",
     "iopub.status.busy": "2022-08-02T14:11:53.916663Z",
     "iopub.status.idle": "2022-08-02T14:11:53.928076Z",
     "shell.execute_reply": "2022-08-02T14:11:53.926830Z",
     "shell.execute_reply.started": "2022-08-02T14:11:53.917543Z"
    }
   },
   "outputs": [],
   "source": [
    "df_posi_bal = df_positive.sample(df_neutral.shape[0])\n",
    "df_posi_bal.shape"
   ]
  },
  {
   "cell_type": "code",
   "execution_count": 23,
   "metadata": {
    "execution": {
     "iopub.execute_input": "2022-08-02T14:11:54.237248Z",
     "iopub.status.busy": "2022-08-02T14:11:54.236214Z",
     "iopub.status.idle": "2022-08-02T14:11:54.252992Z",
     "shell.execute_reply": "2022-08-02T14:11:54.251997Z",
     "shell.execute_reply.started": "2022-08-02T14:11:54.237201Z"
    }
   },
   "outputs": [],
   "source": [
    "train_bal = pd.concat([df_neg_bal,df_posi_bal,df_neutral])\n",
    "train_bal"
   ]
  },
  {
   "cell_type": "code",
   "execution_count": 24,
   "metadata": {
    "execution": {
     "iopub.execute_input": "2022-08-02T14:11:54.437133Z",
     "iopub.status.busy": "2022-08-02T14:11:54.436107Z",
     "iopub.status.idle": "2022-08-02T14:11:54.444310Z",
     "shell.execute_reply": "2022-08-02T14:11:54.443300Z",
     "shell.execute_reply.started": "2022-08-02T14:11:54.437088Z"
    }
   },
   "outputs": [],
   "source": [
    "train_bal.sentiment.unique()"
   ]
  },
  {
   "cell_type": "code",
   "execution_count": 25,
   "metadata": {
    "execution": {
     "iopub.execute_input": "2022-08-02T14:11:54.696911Z",
     "iopub.status.busy": "2022-08-02T14:11:54.696071Z",
     "iopub.status.idle": "2022-08-02T14:11:54.750867Z",
     "shell.execute_reply": "2022-08-02T14:11:54.749970Z",
     "shell.execute_reply.started": "2022-08-02T14:11:54.696865Z"
    }
   },
   "outputs": [],
   "source": [
    "train_bal.groupby('sentiment').describe()"
   ]
  },
  {
   "cell_type": "code",
   "execution_count": 26,
   "metadata": {
    "execution": {
     "iopub.execute_input": "2022-08-02T14:11:54.876770Z",
     "iopub.status.busy": "2022-08-02T14:11:54.875845Z",
     "iopub.status.idle": "2022-08-02T14:11:54.932446Z",
     "shell.execute_reply": "2022-08-02T14:11:54.931492Z",
     "shell.execute_reply.started": "2022-08-02T14:11:54.876724Z"
    }
   },
   "outputs": [],
   "source": [
    "from sklearn.model_selection import train_test_split\n",
    "X_train, X_test, y_train, y_test = train_test_split(train_bal.text,train_bal.sentiment,test_size=0.2)"
   ]
  },
  {
   "cell_type": "code",
   "execution_count": 27,
   "metadata": {
    "execution": {
     "iopub.execute_input": "2022-08-02T14:11:55.067029Z",
     "iopub.status.busy": "2022-08-02T14:11:55.066165Z",
     "iopub.status.idle": "2022-08-02T14:11:55.074871Z",
     "shell.execute_reply": "2022-08-02T14:11:55.073908Z",
     "shell.execute_reply.started": "2022-08-02T14:11:55.066982Z"
    }
   },
   "outputs": [],
   "source": [
    "X_train"
   ]
  },
  {
   "cell_type": "code",
   "execution_count": 28,
   "metadata": {
    "execution": {
     "iopub.execute_input": "2022-08-02T14:11:55.277549Z",
     "iopub.status.busy": "2022-08-02T14:11:55.276557Z",
     "iopub.status.idle": "2022-08-02T14:12:16.388422Z",
     "shell.execute_reply": "2022-08-02T14:12:16.387427Z",
     "shell.execute_reply.started": "2022-08-02T14:11:55.277489Z"
    }
   },
   "outputs": [],
   "source": [
    "bert_preprocess = hub.KerasLayer(\"https://tfhub.dev/tensorflow/bert_en_uncased_preprocess/3\")\n",
    "bert_model = hub.KerasLayer(\"https://tfhub.dev/tensorflow/bert_en_uncased_L-12_H-768_A-12/4\")"
   ]
  },
  {
   "cell_type": "code",
   "execution_count": 29,
   "metadata": {
    "execution": {
     "iopub.execute_input": "2022-08-02T14:12:16.390988Z",
     "iopub.status.busy": "2022-08-02T14:12:16.390518Z",
     "iopub.status.idle": "2022-08-02T14:12:18.630688Z",
     "shell.execute_reply": "2022-08-02T14:12:18.629627Z",
     "shell.execute_reply.started": "2022-08-02T14:12:16.390951Z"
    }
   },
   "outputs": [],
   "source": [
    "bert_model(bert_preprocess(['Yash is a mad ass',\"ahh asfuck shit\"]))['pooled_output']"
   ]
  },
  {
   "cell_type": "code",
   "execution_count": 30,
   "metadata": {
    "execution": {
     "iopub.execute_input": "2022-08-02T14:12:18.635290Z",
     "iopub.status.busy": "2022-08-02T14:12:18.634137Z",
     "iopub.status.idle": "2022-08-02T14:12:19.342861Z",
     "shell.execute_reply": "2022-08-02T14:12:19.341885Z",
     "shell.execute_reply.started": "2022-08-02T14:12:18.635238Z"
    }
   },
   "outputs": [],
   "source": [
    "inputs = tf.keras.layers.Input(shape=(), dtype=tf.string,name='text')\n",
    "preprocess_t = bert_preprocess(inputs)\n",
    "output = bert_model(preprocess_t)"
   ]
  },
  {
   "cell_type": "code",
   "execution_count": 31,
   "metadata": {
    "execution": {
     "iopub.execute_input": "2022-08-02T14:12:34.517320Z",
     "iopub.status.busy": "2022-08-02T14:12:34.516405Z",
     "iopub.status.idle": "2022-08-02T14:12:34.548048Z",
     "shell.execute_reply": "2022-08-02T14:12:34.547120Z",
     "shell.execute_reply.started": "2022-08-02T14:12:34.517271Z"
    }
   },
   "outputs": [],
   "source": [
    "l = tf.keras.layers.Dropout(0.3)(output['pooled_output'])\n",
    "l = tf.keras.layers.Dense(3, activation='sigmoid', name='output')(l)"
   ]
  },
  {
   "cell_type": "code",
   "execution_count": 32,
   "metadata": {
    "execution": {
     "iopub.execute_input": "2022-08-02T14:12:36.036863Z",
     "iopub.status.busy": "2022-08-02T14:12:36.036497Z",
     "iopub.status.idle": "2022-08-02T14:12:36.047994Z",
     "shell.execute_reply": "2022-08-02T14:12:36.046768Z",
     "shell.execute_reply.started": "2022-08-02T14:12:36.036832Z"
    }
   },
   "outputs": [],
   "source": [
    "model = tf.keras.Model(inputs=[inputs],outputs=[l])"
   ]
  },
  {
   "cell_type": "code",
   "execution_count": 33,
   "metadata": {
    "execution": {
     "iopub.execute_input": "2022-08-02T14:12:37.198075Z",
     "iopub.status.busy": "2022-08-02T14:12:37.197325Z",
     "iopub.status.idle": "2022-08-02T14:12:37.245660Z",
     "shell.execute_reply": "2022-08-02T14:12:37.244872Z",
     "shell.execute_reply.started": "2022-08-02T14:12:37.198032Z"
    }
   },
   "outputs": [],
   "source": [
    "model.summary()"
   ]
  },
  {
   "cell_type": "code",
   "execution_count": 34,
   "metadata": {
    "execution": {
     "iopub.execute_input": "2022-08-02T14:12:38.236908Z",
     "iopub.status.busy": "2022-08-02T14:12:38.236303Z",
     "iopub.status.idle": "2022-08-02T14:12:38.251409Z",
     "shell.execute_reply": "2022-08-02T14:12:38.250311Z",
     "shell.execute_reply.started": "2022-08-02T14:12:38.236873Z"
    }
   },
   "outputs": [],
   "source": [
    "model.compile(optimizer='adam',loss='sparse_categorical_crossentropy',metrics=['acc'])"
   ]
  },
  {
   "cell_type": "code",
   "execution_count": 35,
   "metadata": {
    "execution": {
     "iopub.execute_input": "2022-08-02T14:12:46.916979Z",
     "iopub.status.busy": "2022-08-02T14:12:46.916571Z",
     "iopub.status.idle": "2022-08-02T14:23:26.421908Z",
     "shell.execute_reply": "2022-08-02T14:23:26.420952Z",
     "shell.execute_reply.started": "2022-08-02T14:12:46.916924Z"
    }
   },
   "outputs": [],
   "source": [
    "model.fit(X_train,y_train,epochs=5)"
   ]
  },
  {
   "cell_type": "code",
   "execution_count": 36,
   "metadata": {
    "execution": {
     "iopub.execute_input": "2022-08-02T14:24:26.462788Z",
     "iopub.status.busy": "2022-08-02T14:24:26.462415Z",
     "iopub.status.idle": "2022-08-02T14:24:26.469809Z",
     "shell.execute_reply": "2022-08-02T14:24:26.468793Z",
     "shell.execute_reply.started": "2022-08-02T14:24:26.462758Z"
    }
   },
   "outputs": [],
   "source": [
    "test_data = test.drop(['sentiment','textID'],1)"
   ]
  },
  {
   "cell_type": "code",
   "execution_count": 38,
   "metadata": {
    "execution": {
     "iopub.execute_input": "2022-08-02T14:24:57.298928Z",
     "iopub.status.busy": "2022-08-02T14:24:57.297861Z",
     "iopub.status.idle": "2022-08-02T14:25:39.046209Z",
     "shell.execute_reply": "2022-08-02T14:25:39.045080Z",
     "shell.execute_reply.started": "2022-08-02T14:24:57.298890Z"
    }
   },
   "outputs": [],
   "source": [
    "model.predict(X_test)"
   ]
  },
  {
   "cell_type": "code",
   "execution_count": 40,
   "metadata": {
    "execution": {
     "iopub.execute_input": "2022-08-02T14:26:25.263060Z",
     "iopub.status.busy": "2022-08-02T14:26:25.261870Z",
     "iopub.status.idle": "2022-08-02T14:26:57.677978Z",
     "shell.execute_reply": "2022-08-02T14:26:57.676875Z",
     "shell.execute_reply.started": "2022-08-02T14:26:25.263009Z"
    }
   },
   "outputs": [],
   "source": [
    "model.evaluate(X_test,y_test)"
   ]
  },
  {
   "cell_type": "code",
   "execution_count": 48,
   "metadata": {
    "execution": {
     "iopub.execute_input": "2022-08-02T14:30:16.496603Z",
     "iopub.status.busy": "2022-08-02T14:30:16.496239Z",
     "iopub.status.idle": "2022-08-02T14:30:40.173486Z",
     "shell.execute_reply": "2022-08-02T14:30:40.172518Z",
     "shell.execute_reply.started": "2022-08-02T14:30:16.496574Z"
    }
   },
   "outputs": [],
   "source": [
    "y_pred = model.predict(test_data)"
   ]
  },
  {
   "cell_type": "code",
   "execution_count": 51,
   "metadata": {
    "execution": {
     "iopub.execute_input": "2022-08-02T14:31:52.427205Z",
     "iopub.status.busy": "2022-08-02T14:31:52.426711Z",
     "iopub.status.idle": "2022-08-02T14:31:52.432459Z",
     "shell.execute_reply": "2022-08-02T14:31:52.431361Z",
     "shell.execute_reply.started": "2022-08-02T14:31:52.427171Z"
    }
   },
   "outputs": [],
   "source": [
    "y_pred = argmax(y_pred,axis=1)"
   ]
  },
  {
   "cell_type": "code",
   "execution_count": 53,
   "metadata": {
    "execution": {
     "iopub.execute_input": "2022-08-02T14:32:25.501811Z",
     "iopub.status.busy": "2022-08-02T14:32:25.501444Z",
     "iopub.status.idle": "2022-08-02T14:32:25.508954Z",
     "shell.execute_reply": "2022-08-02T14:32:25.507987Z",
     "shell.execute_reply.started": "2022-08-02T14:32:25.501782Z"
    }
   },
   "outputs": [],
   "source": [
    "y_pred = pd.DataFrame(y_pred)"
   ]
  },
  {
   "cell_type": "code",
   "execution_count": 57,
   "metadata": {
    "execution": {
     "iopub.execute_input": "2022-08-02T14:33:57.496862Z",
     "iopub.status.busy": "2022-08-02T14:33:57.496247Z",
     "iopub.status.idle": "2022-08-02T14:33:57.507422Z",
     "shell.execute_reply": "2022-08-02T14:33:57.506334Z",
     "shell.execute_reply.started": "2022-08-02T14:33:57.496825Z"
    }
   },
   "outputs": [],
   "source": [
    "y_pred.to_csv('submission.csv',index=False)"
   ]
  },
  {
   "cell_type": "code",
   "execution_count": null,
   "metadata": {},
   "outputs": [],
   "source": []
  }
 ],
 "metadata": {
  "kernelspec": {
   "display_name": "Python 3.9 (tensorflow)",
   "language": "python",
   "name": "tensorflow"
  },
  "language_info": {
   "codemirror_mode": {
    "name": "ipython",
    "version": 3
   },
   "file_extension": ".py",
   "mimetype": "text/x-python",
   "name": "python",
   "nbconvert_exporter": "python",
   "pygments_lexer": "ipython3",
   "version": "3.9.6"
  }
 },
 "nbformat": 4,
 "nbformat_minor": 4
}
